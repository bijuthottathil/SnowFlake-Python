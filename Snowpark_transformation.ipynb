{
 "cells": [
  {
   "cell_type": "code",
   "execution_count": null,
   "id": "3775908f-ca36-4846-8f38-5adca39217f2",
   "metadata": {
    "collapsed": false,
    "language": "python",
    "name": "cell1"
   },
   "outputs": [],
   "source": [
    "# Import python packages\n",
    "import streamlit as st\n",
    "import pandas as pd\n",
    "from snowflake.snowpark.functions import col\n",
    "\n",
    "# We can also use Snowpark for our analyses!\n",
    "from snowflake.snowpark.context import get_active_session\n",
    "session = get_active_session()\n"
   ]
  },
  {
   "cell_type": "code",
   "execution_count": null,
   "id": "8d50cbf4-0c8d-4950-86cb-114990437ac9",
   "metadata": {
    "collapsed": false,
    "language": "python",
    "name": "cell2"
   },
   "outputs": [],
   "source": [
    "data = [(\"Alice\", 25), (\"Bob\", 30), (\"Charlie\", 35)]\n",
    "columns = [\"Name\", \"Age\"]\n",
    "df = session.create_dataframe(data, schema=columns)\n",
    "\n",
    "# 2. Transform: Add a new column 'Age_In_5_Years'\n",
    "df_transformed = df.with_column(\"Age_In_5_Years\", col(\"Age\") + 5)\n",
    "\n",
    "# 3. Load: Show the result\n",
    "df_transformed.show()"
   ]
  },
  {
   "cell_type": "code",
   "execution_count": null,
   "id": "c695373e-ac74-4b62-a1f1-08206cbd5c81",
   "metadata": {
    "collapsed": false,
    "language": "python",
    "name": "cell3"
   },
   "outputs": [],
   "source": [
    "df = session.table(\"CUSTOMER\")\n",
    "df.show()"
   ]
  },
  {
   "cell_type": "code",
   "execution_count": null,
   "id": "d8ef6bd2-1b25-4172-8cd4-ca416f285651",
   "metadata": {
    "collapsed": false,
    "language": "python",
    "name": "cell4"
   },
   "outputs": [],
   "source": [
    "transformed_df = df.with_column(\"C_ACCTBAL-NEW\", col(\"C_ACCTBAL\") * 2)\n",
    "transformed_df.show()"
   ]
  },
  {
   "cell_type": "code",
   "execution_count": null,
   "id": "abb3b8b7-a753-4ecd-bef5-08bb1130f4e0",
   "metadata": {
    "language": "python",
    "name": "cell5"
   },
   "outputs": [],
   "source": [
    "transformed_df.write.save_as_table(\"transformed_customer\")"
   ]
  },
  {
   "cell_type": "code",
   "execution_count": null,
   "id": "def38280-3ce8-4937-9fbe-eec5c07b2621",
   "metadata": {
    "collapsed": false,
    "language": "sql",
    "name": "cell6"
   },
   "outputs": [],
   "source": [
    "select * from transformed_customer"
   ]
  },
  {
   "cell_type": "code",
   "execution_count": null,
   "id": "892d838f",
   "metadata": {},
   "outputs": [],
   "source": [
    "create or replace procedure HOL_DB.HARMONIZED.ORDERS_UPDATE_SP()\n",
    "returns string\n",
    "language python\n",
    "runtime_version=3.10\n",
    "imports=('@HOL_DB.HARMONIZED.DEPLOYMENT/hol/orders_update_sp.zip')\n",
    "handler='procedure.main'\n",
    "packages=('snowflake-snowpark-python')"
   ]
  }
 ],
 "metadata": {
  "kernelspec": {
   "display_name": "Streamlit Notebook",
   "name": "streamlit"
  }
 },
 "nbformat": 4,
 "nbformat_minor": 5
}
